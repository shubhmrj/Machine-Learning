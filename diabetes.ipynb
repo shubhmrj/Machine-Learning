{
 "cells": [
  {
   "cell_type": "code",
   "execution_count": 2,
   "id": "01e1ea44",
   "metadata": {},
   "outputs": [
    {
     "name": "stdout",
     "output_type": "stream",
     "text": [
      "Collecting fastapi\n",
      "  Using cached fastapi-0.115.12-py3-none-any.whl.metadata (27 kB)\n",
      "Collecting starlette<0.47.0,>=0.40.0 (from fastapi)\n",
      "  Using cached starlette-0.46.2-py3-none-any.whl.metadata (6.2 kB)\n",
      "Requirement already satisfied: pydantic!=1.8,!=1.8.1,!=2.0.0,!=2.0.1,!=2.1.0,<3.0.0,>=1.7.4 in c:\\users\\hp\\anaconda3\\lib\\site-packages (from fastapi) (2.8.2)\n",
      "Requirement already satisfied: typing-extensions>=4.8.0 in c:\\users\\hp\\anaconda3\\lib\\site-packages (from fastapi) (4.11.0)\n",
      "Requirement already satisfied: annotated-types>=0.4.0 in c:\\users\\hp\\anaconda3\\lib\\site-packages (from pydantic!=1.8,!=1.8.1,!=2.0.0,!=2.0.1,!=2.1.0,<3.0.0,>=1.7.4->fastapi) (0.6.0)\n",
      "Requirement already satisfied: pydantic-core==2.20.1 in c:\\users\\hp\\anaconda3\\lib\\site-packages (from pydantic!=1.8,!=1.8.1,!=2.0.0,!=2.0.1,!=2.1.0,<3.0.0,>=1.7.4->fastapi) (2.20.1)\n",
      "Requirement already satisfied: anyio<5,>=3.6.2 in c:\\users\\hp\\anaconda3\\lib\\site-packages (from starlette<0.47.0,>=0.40.0->fastapi) (4.2.0)\n",
      "Requirement already satisfied: idna>=2.8 in c:\\users\\hp\\anaconda3\\lib\\site-packages (from anyio<5,>=3.6.2->starlette<0.47.0,>=0.40.0->fastapi) (3.7)\n",
      "Requirement already satisfied: sniffio>=1.1 in c:\\users\\hp\\anaconda3\\lib\\site-packages (from anyio<5,>=3.6.2->starlette<0.47.0,>=0.40.0->fastapi) (1.3.0)\n",
      "Using cached fastapi-0.115.12-py3-none-any.whl (95 kB)\n",
      "Using cached starlette-0.46.2-py3-none-any.whl (72 kB)\n",
      "Installing collected packages: starlette, fastapi\n",
      "Successfully installed fastapi-0.115.12 starlette-0.46.2\n",
      "Note: you may need to restart the kernel to use updated packages.\n"
     ]
    }
   ],
   "source": [
    "pip install fastapi\n"
   ]
  },
  {
   "cell_type": "code",
   "execution_count": 5,
   "id": "fb5e7f07",
   "metadata": {},
   "outputs": [],
   "source": [
    "from fastapi import FastAPI\n",
    "from pydantic import BaseModel\n",
    "import joblib\n",
    "import numpy as np\n",
    "\n",
    "# Load models\n",
    "logreg_model = joblib.load(\"logistic_regression_model.pkl\")\n",
    "scaler = joblib.load(\"scaler.pkl\")\n",
    "\n",
    "# Initialize app\n",
    "app = FastAPI(title=\"Diabetes Prediction API\")\n",
    "\n",
    "# Define input data model\n",
    "class PatientData(BaseModel):\n",
    "    pregnancies: float\n",
    "    glucose: float\n",
    "    blood_pressure: float\n",
    "    skin_thickness: float\n",
    "    insulin: float\n",
    "    bmi: float\n",
    "    diabetes_pedigree_function: float\n",
    "    age: float\n",
    "\n",
    "# Health check\n",
    "@app.get(\"/\")\n",
    "def read_root():\n",
    "    return {\"message\": \"Diabetes Prediction API is live!\"}\n",
    "\n",
    "# Predict endpoint\n",
    "@app.post(\"/predict\")\n",
    "def predict(data: PatientData):\n",
    "    features = np.array([\n",
    "        data.pregnancies,\n",
    "        data.glucose,\n",
    "        data.blood_pressure,\n",
    "        data.skin_thickness,\n",
    "        data.insulin,\n",
    "        data.bmi,\n",
    "        data.diabetes_pedigree_function,\n",
    "        data.age\n",
    "    ]).reshape(1, -1)\n",
    "\n",
    "    features_scaled = scaler.transform(features)\n",
    "    prediction = logreg_model.predict(features_scaled)[0]\n",
    "    probability = logreg_model.predict_proba(features_scaled)[0][1]\n",
    "\n",
    "    return {\n",
    "        \"prediction\": int(prediction),\n",
    "        \"probability_diabetic\": round(float(probability), 4)\n",
    "    }\n",
    "\n"
   ]
  }
 ],
 "metadata": {
  "kernelspec": {
   "display_name": "base",
   "language": "python",
   "name": "python3"
  },
  "language_info": {
   "codemirror_mode": {
    "name": "ipython",
    "version": 3
   },
   "file_extension": ".py",
   "mimetype": "text/x-python",
   "name": "python",
   "nbconvert_exporter": "python",
   "pygments_lexer": "ipython3",
   "version": "3.12.7"
  }
 },
 "nbformat": 4,
 "nbformat_minor": 5
}
