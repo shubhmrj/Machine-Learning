{
 "cells": [
  {
   "cell_type": "code",
   "execution_count": 1,
   "metadata": {},
   "outputs": [],
   "source": [
    "import numpy as np"
   ]
  },
  {
   "cell_type": "code",
   "execution_count": 4,
   "metadata": {},
   "outputs": [
    {
     "data": {
      "text/plain": [
       "array([8])"
      ]
     },
     "execution_count": 4,
     "metadata": {},
     "output_type": "execute_result"
    }
   ],
   "source": [
    "# Logical OPeration\n",
    "\n",
    "data=np.array([1,2,3,4,66,8,85])\n",
    "\n",
    "data[(data>=5) & (data<=8)]"
   ]
  },
  {
   "cell_type": "code",
   "execution_count": 6,
   "metadata": {},
   "outputs": [
    {
     "name": "stdout",
     "output_type": "stream",
     "text": [
      "Dataset imported successfully.\n",
      "Data cleaned successfully.\n",
      "Dataframe manipulated successfully using NumPy.\n",
      "              X         Y Unique Squirrel ID Hectare Shift      Date  \\\n",
      "0  2.452839e-09  0.000011     37F-PM-1014-03     37F    PM  0.994119   \n",
      "1  2.363712e-09  0.000011     37E-PM-1006-03     37E    PM  0.986277   \n",
      "2  4.241685e-10  0.000011      2E-AM-1010-03     02E    AM  0.990198   \n",
      "3  5.325964e-10  0.000011      5D-PM-1018-05     05D    PM  0.998040   \n",
      "4  2.141317e-09  0.000011     39B-AM-1018-01     39B    AM  0.998040   \n",
      "\n",
      "   Hectare Squirrel Number       Age Primary Fur Color Highlight Fur Color  \\\n",
      "0                 0.000008       NaN               NaN                 NaN   \n",
      "1                 0.000008     Adult              Gray            Cinnamon   \n",
      "2                 0.000008     Adult          Cinnamon            Cinnamon   \n",
      "3                 0.000008  Juvenile              Gray            Cinnamon   \n",
      "4                 0.000007  Juvenile              Gray            Cinnamon   \n",
      "\n",
      "   ...   Kuks  Quaas  Moans Tail flags Tail twitches  Approaches  Indifferent  \\\n",
      "0  ...  False  False  False      False         False       False        False   \n",
      "1  ...  False  False  False      False         False       False        False   \n",
      "2  ...  False  False  False      False         False       False         True   \n",
      "3  ...  False  False  False      False         False       False        False   \n",
      "4  ...   True  False  False      False         False       False        False   \n",
      "\n",
      "   Runs from  Other Interactions                                      Lat/Long  \n",
      "0      False                 NaN    POINT (-73.9561344937861 40.7940823884086)  \n",
      "1       True                  me  POINT (-73.9570437717691 40.794850940803904)  \n",
      "2      False                  me   POINT (-73.9768311751004 40.76671780725581)  \n",
      "3       True                  me    POINT (-73.9757249834141 40.7697032606755)  \n",
      "4      False                  me     POINT (-73.9593126695714 40.797533370163)  \n",
      "\n",
      "[5 rows x 31 columns]\n"
     ]
    },
    {
     "name": "stderr",
     "output_type": "stream",
     "text": [
      "C:\\Users\\Hp\\AppData\\Local\\Temp\\ipykernel_16320\\2565360056.py:17: FutureWarning: DataFrame.fillna with 'method' is deprecated and will raise in a future version. Use obj.ffill() or obj.bfill() instead.\n",
      "  df_cleaned = df_cleaned.fillna(method='ffill')  # Forward fill missing values\n"
     ]
    }
   ],
   "source": [
    "import pandas as pd\n",
    "import numpy as np\n",
    "\n",
    "def import_dataset(filepath: str) -> pd.DataFrame:\n",
    "    \"\"\"Import dataset from a CSV file.\"\"\"\n",
    "    try:\n",
    "        df = pd.read_csv(filepath)\n",
    "        print(\"Dataset imported successfully.\")\n",
    "        return df\n",
    "    except Exception as e:\n",
    "        print(f\"Error importing dataset: {e}\")\n",
    "        raise\n",
    "\n",
    "def clean_data(df: pd.DataFrame) -> pd.DataFrame:\n",
    "    \"\"\"Clean the dataset by handling missing values and removing duplicates.\"\"\"\n",
    "    df_cleaned = df.drop_duplicates()\n",
    "    df_cleaned = df_cleaned.fillna(method='ffill')  # Forward fill missing values\n",
    "    print(\"Data cleaned successfully.\")\n",
    "    return df_cleaned\n",
    "\n",
    "def manipulate_data_with_numpy(df: pd.DataFrame) -> pd.DataFrame:\n",
    "    \"\"\"Manipulate the dataframe using NumPy operations.\"\"\"\n",
    "    # Example: Normalize numeric columns\n",
    "    numeric_cols = df.select_dtypes(include=[np.number]).columns\n",
    "    df[numeric_cols] = (df[numeric_cols] - np.min(df[numeric_cols])) / (np.max(df[numeric_cols]) - np.min(df[numeric_cols]))\n",
    "    print(\"Dataframe manipulated successfully using NumPy.\")\n",
    "    return df\n",
    "\n",
    "def main():\n",
    "    filepath = 'data.csv'  # Replace with your actual CSV file path\n",
    "    df = import_dataset(filepath)\n",
    "    df = clean_data(df)\n",
    "    df = manipulate_data_with_numpy(df)\n",
    "    print(df.head())\n",
    "\n",
    "if __name__ == \"__main__\":\n",
    "     main()\n"
   ]
  }
 ],
 "metadata": {
  "kernelspec": {
   "display_name": "base",
   "language": "python",
   "name": "python3"
  },
  "language_info": {
   "codemirror_mode": {
    "name": "ipython",
    "version": 3
   },
   "file_extension": ".py",
   "mimetype": "text/x-python",
   "name": "python",
   "nbconvert_exporter": "python",
   "pygments_lexer": "ipython3",
   "version": "3.12.7"
  }
 },
 "nbformat": 4,
 "nbformat_minor": 2
}
