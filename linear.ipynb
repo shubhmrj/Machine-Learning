{
 "cells": [
  {
   "cell_type": "code",
   "execution_count": 2,
   "metadata": {},
   "outputs": [],
   "source": [
    "import numpy as np\n",
    "arr=np.array([1,2,3,4,5])"
   ]
  },
  {
   "cell_type": "code",
   "execution_count": 6,
   "metadata": {},
   "outputs": [
    {
     "data": {
      "text/plain": [
       "array([[1, 2, 3, 4, 5]])"
      ]
     },
     "execution_count": 6,
     "metadata": {},
     "output_type": "execute_result"
    }
   ],
   "source": [
    "arr.reshape(1,5)"
   ]
  },
  {
   "cell_type": "code",
   "execution_count": 9,
   "metadata": {},
   "outputs": [
    {
     "data": {
      "text/plain": [
       "array([[1, 2, 3, 4, 5]])"
      ]
     },
     "execution_count": 9,
     "metadata": {},
     "output_type": "execute_result"
    }
   ],
   "source": [
    "arr2=np.array([[1,2,3,4,5]])\n",
    "arr2.reshape(1,5)"
   ]
  },
  {
   "cell_type": "code",
   "execution_count": 13,
   "metadata": {},
   "outputs": [
    {
     "data": {
      "text/plain": [
       "array([[0],\n",
       "       [2],\n",
       "       [4],\n",
       "       [6],\n",
       "       [8]])"
      ]
     },
     "execution_count": 13,
     "metadata": {},
     "output_type": "execute_result"
    }
   ],
   "source": [
    "np.arange(0,10,2).reshape(5,1)"
   ]
  },
  {
   "cell_type": "code",
   "execution_count": 1,
   "metadata": {},
   "outputs": [
    {
     "ename": "SyntaxError",
     "evalue": "unterminated string literal (detected at line 24) (611105903.py, line 24)",
     "output_type": "error",
     "traceback": [
      "\u001b[1;36m  Cell \u001b[1;32mIn[1], line 24\u001b[1;36m\u001b[0m\n\u001b[1;33m    dataMatrix = reshape(dataArray, [cols, rows])';  % Transpose after reshape to match row-wise filling\u001b[0m\n\u001b[1;37m                                                 ^\u001b[0m\n\u001b[1;31mSyntaxError\u001b[0m\u001b[1;31m:\u001b[0m unterminated string literal (detected at line 24)\n"
     ]
    }
   ],
   "source": [
    "% Program to input a dataset quickly and represent it using a 5x3 matrix\n",
    "\n",
    "clc;    % Clear command window\n",
    "clear;  % Clear workspace\n",
    "\n",
    "% Define matrix size\n",
    "rows = 5;\n",
    "cols = 3;\n",
    "num_elements = rows * cols;\n",
    "\n",
    "% Prompt the user to input all data at once\n",
    "fprintf('Please enter %d numbers separated by spaces:\\n', num_elements);\n",
    "inputData = input('', 's');   % Read the whole line as a string\n",
    "\n",
    "% Convert the string to numeric array\n",
    "dataArray = str2num(inputData);  %#ok<ST2NM>  % Safe for simple input\n",
    "\n",
    "% Check if the correct number of elements was entered\n",
    "if numel(dataArray) ~= num_elements\n",
    "    error('Incorrect number of elements. Expected %d numbers.', num_elements);\n",
    "end\n",
    "\n",
    "% Reshape the array into a 5x3 matrix\n",
    "dataMatrix = reshape(dataArray, [cols, rows])';  % Transpose after reshape to match row-wise filling\n",
    "\n",
    "% Display the resulting matrix\n",
    "disp('The 5x3 data matrix is:');\n",
    "disp(dataMatrix);\n"
   ]
  }
 ],
 "metadata": {
  "kernelspec": {
   "display_name": "base",
   "language": "python",
   "name": "python3"
  },
  "language_info": {
   "codemirror_mode": {
    "name": "ipython",
    "version": 3
   },
   "file_extension": ".py",
   "mimetype": "text/x-python",
   "name": "python",
   "nbconvert_exporter": "python",
   "pygments_lexer": "ipython3",
   "version": "3.12.7"
  }
 },
 "nbformat": 4,
 "nbformat_minor": 2
}
